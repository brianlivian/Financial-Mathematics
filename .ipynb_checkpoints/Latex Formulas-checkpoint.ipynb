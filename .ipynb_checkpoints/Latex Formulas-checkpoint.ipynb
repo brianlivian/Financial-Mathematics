{
 "cells": [
  {
   "cell_type": "markdown",
   "id": "68657631",
   "metadata": {},
   "source": [
    "<font size=\"4\">$K(t) = \\frac{S(t) - S(t-1)}{S(t-1)}$</font>\n",
    "\n",
    "<font size=\"4\">$ E(K) = \\frac{\\Sigma K}{T}=\\mu(S)$</font>\n",
    "\n",
    "<font size=\"4\">$\\mu_{v}=w_{1}\\mu_{1}+w_{2}\\mu_{2}$.</font>\n",
    "\n",
    "<font size=\"4\">$Var_{V}= E(V-\\mu_{V})^2=\\sigma^2_{V}$</font>\n",
    "\n",
    "<font size=\"4\">$Sd_{V}=\\sqrt{Var_{V}}=\\sigma_{V}$</font>\n",
    "\n",
    "<font size=\"4\">$Cov(X,Y)=((X-\\mu x)(Y-\\mu y))=\\Sigma_{i}(x_{i}-\\mu_{x})(y_{i}-\\mu_{y})p_{i}=c_{12}$</font>\n",
    "\n",
    "<font size=\"4\">$Cor(X,Y)=\\frac{Cov(X,Y)}{\\sigma x*\\sigma y}$</font>\n",
    "\n",
    "<font size=\"4\">$Var(V)=w_{1}\\sigma^2_{1}+w_{2}\\sigma^2_{2}+2w_{1}w_{2}c_{12}$</font>\n",
    "\n",
    "<font size=\"4\">$S_{0} = \\frac{\\sigma_{2}^2 - c_{12}}{\\sigma_{1}^2 + \\sigma_{2}^2 -2c_{12}}$</font>\n",
    "\n",
    "<font size=\"4\">$\\mu_{0} =\\frac{\\mu_{1}\\sigma^2_{2}+\\mu_{2}\\sigma^2_{1}-(\\mu_{1}+\\mu_{2})c_{12}}\n",
    "{\\sigma^2_{1}+\\sigma^2_{2}-2c_{12}}$</font>\n",
    "\n",
    "<font size=\"4\">$\\sigma_{0}=\\frac{\\sigma^2_{1}\\sigma^2_{2}-c^2_{12}}{\\sigma^2_{1}+\\sigma^2_{2}-2c_{12}}$</font>\n",
    "\n",
    "<font size=\"4\">$W_{1}=\\frac{\\mu_{V}-\\mu_{2}}{\\mu_{1}-\\mu_{2}}$ and $W_{2}=1-W_{1}$</font>\n",
    "\n",
    "<font size=\"4\">$0=(\\sigma^2_{1}+\\sigma^2_{2}-2c_{12})s^2+(-\\sigma^2_{2}+2c_{12})s+(\\sigma^2_{2}-\\sigma^2_{V})$</font>\n",
    "\n",
    "<font size=\"4\">$\\frac{-b \\pm\\sqrt{b^2-4ac}}{2a}$</font>\n",
    "\n",
    "<font size=\"4\">$a=\\sigma^2_{1}+\\sigma^2_{2}-2c_{12}$</font>\n",
    "\n",
    "<font size=\"4\">$b=-\\sigma^2_{2}+2c_{12}$</font>\n",
    "\n",
    "<font size=\"4\">$c=\\sigma^2_{2}-\\sigma^2_{V}$</font>\n",
    "\n",
    "<font size=\"4\">$x^2 - A^2(y-\\mu_{0})^2 = \\sigma^2_{0}$</font>\n",
    "\n",
    "<font size=\"4\">$x = \\sigma^2_{v}$ $y =  \\mu_{v}$ </font>\n",
    "\n",
    "<font size=\"4\">$A^2 = \\frac{\\sigma^2_{1} + \\sigma^2_{2} + 2c_{12}}{(\\mu_{1} - \\mu_{2})^2}$</font>\n",
    "\n",
    "<font size=\"4\">$y = \\mu_{v} = \\mu_{0} \\pm \\sqrt{\\frac{x^2 - \\sigma^2_{0}}{A^2}}$</font>\n"
   ]
  },
  {
   "cell_type": "code",
   "execution_count": null,
   "id": "6c5809ed",
   "metadata": {},
   "outputs": [],
   "source": []
  }
 ],
 "metadata": {
  "kernelspec": {
   "display_name": "Python 3 (ipykernel)",
   "language": "python",
   "name": "python3"
  },
  "language_info": {
   "codemirror_mode": {
    "name": "ipython",
    "version": 3
   },
   "file_extension": ".py",
   "mimetype": "text/x-python",
   "name": "python",
   "nbconvert_exporter": "python",
   "pygments_lexer": "ipython3",
   "version": "3.9.13"
  }
 },
 "nbformat": 4,
 "nbformat_minor": 5
}
